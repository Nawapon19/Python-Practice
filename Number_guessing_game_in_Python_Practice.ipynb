{
  "nbformat": 4,
  "nbformat_minor": 0,
  "metadata": {
    "colab": {
      "provenance": [],
      "authorship_tag": "ABX9TyMOu6/jZO9gy9kq3D5ik4nc",
      "include_colab_link": true
    },
    "kernelspec": {
      "name": "python3",
      "display_name": "Python 3"
    },
    "language_info": {
      "name": "python"
    }
  },
  "cells": [
    {
      "cell_type": "markdown",
      "metadata": {
        "id": "view-in-github",
        "colab_type": "text"
      },
      "source": [
        "<a href=\"https://colab.research.google.com/github/Nawapon19/Python-Practice/blob/main/Number_guessing_game_in_Python_Practice.ipynb\" target=\"_parent\"><img src=\"https://colab.research.google.com/assets/colab-badge.svg\" alt=\"Open In Colab\"/></a>"
      ]
    },
    {
      "cell_type": "markdown",
      "source": [
        "**Number guessing game in Python**"
      ],
      "metadata": {
        "id": "4R78IoDuT5vw"
      }
    },
    {
      "cell_type": "markdown",
      "source": [
        "**Task:**\n",
        "\n",
        "* Build a Number guessing game, in which the user selects a range.\n",
        "* Let’s say User selected a range, i.e., from A to B, where A and B belong to Integer.\n",
        "* Some random integer will be selected by the system and the user has to guess that integer in the minimum number of guesses"
      ],
      "metadata": {
        "id": "z0UHbsnCT-h9"
      }
    },
    {
      "cell_type": "markdown",
      "source": [
        "*Maximum number of guessing* = log2(Upper bound – lower bound + 1)\n",
        "\n",
        "The minimum number of guesses depends upon range. And the compiler must calculate the minimum number of guessing depends upon the range, on its own."
      ],
      "metadata": {
        "id": "ZkbtrcO0Pzjt"
      }
    },
    {
      "cell_type": "markdown",
      "source": [
        "**Algorithm:**\n",
        "* User inputs the lower bound and upper bound of the range.\n",
        "* The compiler generates a random integer between the range and store it in a variable for future references.\n",
        "* For repetitive guessing, a while loop will be initialized.\n",
        "* If the user guessed a number which is greater than a randomly selected number, the user gets an output “Try Again! You guessed too high“\n",
        "* Else If the user guessed a number which is smaller than a randomly selected number, the user gets an output “Try Again! You guessed too small”\n",
        "* And if the user guessed in a maximum number of guesses, the user gets a “Congratulations! ” Output.\n",
        "* Else if the user didn’t guess the integer in the maximum number of guesses, he/she will get “Better Luck Next Time!” output."
      ],
      "metadata": {
        "id": "DpQcqhfZNphx"
      }
    },
    {
      "cell_type": "markdown",
      "source": [
        "**Implementation of the Algorithm:**"
      ],
      "metadata": {
        "id": "iYJe_zJyN7un"
      }
    },
    {
      "cell_type": "code",
      "execution_count": null,
      "metadata": {
        "id": "qt3GijbbEiLZ"
      },
      "outputs": [],
      "source": [
        "# import necessary libraries\n",
        "import random\n",
        "import math"
      ]
    },
    {
      "cell_type": "code",
      "source": [
        "# take inputs for lower bound and lower bound of the range\n",
        "lower = int(input(\"Enter Lower bound:- \"))\n",
        "upper = int(input(\"Enter Upper bound:- \"))\n",
        "\n",
        "# generate a random number between the range\n",
        "x = random.randint(lower, upper)\n",
        "\n",
        "# print the maximum number of guessing\n",
        "print(\"\\n\\tYou have only \", round(math.log(upper - lower + 1, 2)), \" chances to guess the integer!\\n\")\n",
        "\n",
        "# initialize the number of guesses\n",
        "count = 0\n",
        "\n",
        "# create a loop for guessing\n",
        "# while number of guesses is lower than maximum number of guesses\n",
        "while count < math.log(upper - lower + 1, 2):\n",
        "\n",
        "  # take guessing number as input\n",
        "  guess = int(input(\"Guess the number:- \"))\n",
        "\n",
        "  # create a condition to test the guessing number\n",
        "  if x == guess:\n",
        "    print(\"Congratulations! you did it in \", count, \" try.\")\n",
        "    # once guessing number is matched, break the loop\n",
        "    break\n",
        "  elif x > guess:\n",
        "    print(\"You guessed too small!\")\n",
        "  elif x < guess:\n",
        "    print(\"You guessed too high!\")\n",
        "\n",
        "  count += 1\n",
        "\n",
        "# if number of guesses exceed or equal to maximum, print this\n",
        "if count >= math.log(upper - lower + 1, 2):\n",
        "  print(\"\\nThe number is \", x)\n",
        "  print(\"\\tBetter Luck Next Time!\")\n"
      ],
      "metadata": {
        "colab": {
          "base_uri": "https://localhost:8080/"
        },
        "id": "ezwRCUslOmZO",
        "outputId": "aacf7d46-31b7-4011-a1e4-cb36b20f6691"
      },
      "execution_count": null,
      "outputs": [
        {
          "output_type": "stream",
          "name": "stdout",
          "text": [
            "Enter Lower bound:- 1\n",
            "Enter Upper bound:- 100\n",
            "\n",
            "\tYou have only  7  chances to guess the integer!\n",
            "\n",
            "Guess the number:- 50\n",
            "You guessed too small!\n",
            "Guess the number:- 75\n",
            "You guessed too small!\n",
            "Guess the number:- 82\n",
            "You guessed too small!\n",
            "Guess the number:- 90\n",
            "You guessed too high!\n",
            "Guess the number:- 87\n",
            "You guessed too high!\n",
            "Guess the number:- 85\n",
            "You guessed too high!\n",
            "Guess the number:- 84\n",
            "You guessed too high!\n",
            "\n",
            "The number is  83\n",
            "\tBetter Luck Next Time!\n"
          ]
        }
      ]
    },
    {
      "cell_type": "markdown",
      "source": [
        "**Time Complexity:**\n",
        "The time complexity of this code is O(n) as the number of iterations of the loop is not fixed and depends on the number of guesses taken by the user to get the right answer."
      ],
      "metadata": {
        "id": "VMrdfrekWVyo"
      }
    },
    {
      "cell_type": "markdown",
      "source": [
        "**Space Complexity:**\n",
        "The space complexity of this code is O(1) as all the variables used in this code are of the same size and no extra space is required to store the values."
      ],
      "metadata": {
        "id": "p5ZsQt0MWYwF"
      }
    }
  ]
}